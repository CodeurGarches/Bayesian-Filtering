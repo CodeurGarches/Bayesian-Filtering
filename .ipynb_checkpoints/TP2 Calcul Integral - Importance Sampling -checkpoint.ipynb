{
 "cells": [
  {
   "cell_type": "code",
   "execution_count": 42,
   "id": "7a1b5d82",
   "metadata": {},
   "outputs": [],
   "source": [
    "import numpy as np\n",
    "import math as ma"
   ]
  },
  {
   "cell_type": "code",
   "execution_count": 8,
   "id": "141789f2",
   "metadata": {},
   "outputs": [],
   "source": [
    "def g(x):\n",
    "    return np.cos(ma.pi*x*0.5)"
   ]
  },
  {
   "cell_type": "markdown",
   "id": "31a245d5",
   "metadata": {},
   "source": [
    "On a ici $g(x) = cos(\\frac{\\pi x}{2})$"
   ]
  },
  {
   "cell_type": "code",
   "execution_count": 160,
   "id": "1abe3108",
   "metadata": {},
   "outputs": [],
   "source": [
    "N = 4000"
   ]
  },
  {
   "cell_type": "code",
   "execution_count": 161,
   "id": "8c27df27",
   "metadata": {},
   "outputs": [],
   "source": [
    "def simu(N):\n",
    "    samples = [g(np.random.uniform()) for x in range(N)]\n",
    "    mu_n = sum(samples)/N\n",
    "    return mu_n"
   ]
  },
  {
   "cell_type": "code",
   "execution_count": 162,
   "id": "a20033b0",
   "metadata": {},
   "outputs": [],
   "source": [
    "M = 5000"
   ]
  },
  {
   "cell_type": "code",
   "execution_count": 163,
   "id": "81896e0e",
   "metadata": {},
   "outputs": [],
   "source": [
    "sample_mu_n = [simu(N) for _ in range(M)]"
   ]
  },
  {
   "cell_type": "code",
   "execution_count": 164,
   "id": "cfbd87f1",
   "metadata": {},
   "outputs": [],
   "source": [
    "empirical_variance = np.var(sample_mu_n)"
   ]
  },
  {
   "cell_type": "code",
   "execution_count": 165,
   "id": "7504ef3d",
   "metadata": {},
   "outputs": [
    {
     "name": "stdout",
     "output_type": "stream",
     "text": [
      "empirical variance found : 0.09497957682516908\n",
      "theoretical variance : 0.094\n"
     ]
    }
   ],
   "source": [
    "print('empirical variance found :',N*empirical_variance)\n",
    "print('theoretical variance :',0.094)"
   ]
  },
  {
   "cell_type": "markdown",
   "id": "bae7bcee",
   "metadata": {},
   "source": [
    "Let's perform importance sampling using a Taylor Expansion near 0 of g :\n",
    "We will use $\\tilde{q} = \\frac{1-x^2}{\\int{1-x^{2}dx}} $"
   ]
  },
  {
   "cell_type": "code",
   "execution_count": 171,
   "id": "0a483ea5",
   "metadata": {},
   "outputs": [
    {
     "data": {
      "text/plain": [
       "0.0009760856628417969"
      ]
     },
     "execution_count": 171,
     "metadata": {},
     "output_type": "execute_result"
    }
   ],
   "source": [
    "(0.5**10)*(1-0.5**11)"
   ]
  },
  {
   "cell_type": "code",
   "execution_count": 187,
   "id": "bf532d10",
   "metadata": {},
   "outputs": [],
   "source": [
    "p = 0.5\n",
    "q = 1-p"
   ]
  },
  {
   "cell_type": "code",
   "execution_count": 188,
   "id": "48626e72",
   "metadata": {},
   "outputs": [
    {
     "data": {
      "text/plain": [
       "0.8318119049072266"
      ]
     },
     "execution_count": 188,
     "metadata": {},
     "output_type": "execute_result"
    }
   ],
   "source": [
    "np.sum([ma.comb(21-k,11)* (p**11)* (q**(10-k)) for k in range(0,11)])"
   ]
  },
  {
   "cell_type": "code",
   "execution_count": null,
   "id": "56819f6d",
   "metadata": {},
   "outputs": [],
   "source": [
    "def game(p):\n",
    "    "
   ]
  }
 ],
 "metadata": {
  "kernelspec": {
   "display_name": "Python 3 (ipykernel)",
   "language": "python",
   "name": "python3"
  },
  "language_info": {
   "codemirror_mode": {
    "name": "ipython",
    "version": 3
   },
   "file_extension": ".py",
   "mimetype": "text/x-python",
   "name": "python",
   "nbconvert_exporter": "python",
   "pygments_lexer": "ipython3",
   "version": "3.10.12"
  }
 },
 "nbformat": 4,
 "nbformat_minor": 5
}
