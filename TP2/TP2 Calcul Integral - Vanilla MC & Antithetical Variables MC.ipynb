{
 "cells": [
  {
   "cell_type": "code",
   "execution_count": 1,
   "id": "7a1b5d82",
   "metadata": {},
   "outputs": [],
   "source": [
    "import numpy as np\n",
    "import math as ma"
   ]
  },
  {
   "cell_type": "code",
   "execution_count": 2,
   "id": "141789f2",
   "metadata": {},
   "outputs": [],
   "source": [
    "def g(x):\n",
    "    return np.cos(ma.pi*x*0.5)"
   ]
  },
  {
   "cell_type": "markdown",
   "id": "31a245d5",
   "metadata": {},
   "source": [
    "On a ici $g(x) = cos(\\frac{\\pi x}{2})$"
   ]
  },
  {
   "cell_type": "code",
   "execution_count": 31,
   "id": "1abe3108",
   "metadata": {},
   "outputs": [],
   "source": [
    "N = 1200\n",
    "M = 500"
   ]
  },
  {
   "cell_type": "code",
   "execution_count": 26,
   "id": "8c27df27",
   "metadata": {},
   "outputs": [],
   "source": [
    "def simu(N):\n",
    "    samples = [g(np.random.uniform()) for x in range(N)]\n",
    "    mu_n = sum(samples)/N\n",
    "    return mu_n"
   ]
  },
  {
   "cell_type": "code",
   "execution_count": 34,
   "id": "840aeff9",
   "metadata": {},
   "outputs": [],
   "source": [
    "def simu_va(N):\n",
    "    samples_1,samples_2 = [],[]\n",
    "    for _ in range(N):\n",
    "        u=np.random.uniform()\n",
    "        samples_1.append(g(u))\n",
    "        samples_2.append(g(1-u))\n",
    "\n",
    "    mu_n = (sum(samples_1)+sum(samples_2))/(len(samples_1)+len(samples_2))\n",
    "    return mu_n"
   ]
  },
  {
   "cell_type": "code",
   "execution_count": 37,
   "id": "a20033b0",
   "metadata": {},
   "outputs": [],
   "source": [
    "sample_mu_n_redvar = [simu_va(N) for _ in range(M)]"
   ]
  },
  {
   "cell_type": "code",
   "execution_count": 38,
   "id": "81896e0e",
   "metadata": {},
   "outputs": [],
   "source": [
    "sample_mu_n = [simu(N) for _ in range(M)]"
   ]
  },
  {
   "cell_type": "code",
   "execution_count": 39,
   "id": "cfbd87f1",
   "metadata": {},
   "outputs": [],
   "source": [
    "empirical_variance = np.var(sample_mu_n)\n",
    "empirical_variance_redvar = np.var(sample_mu_n_redvar)"
   ]
  },
  {
   "cell_type": "code",
   "execution_count": 40,
   "id": "7504ef3d",
   "metadata": {},
   "outputs": [
    {
     "name": "stdout",
     "output_type": "stream",
     "text": [
      "empirical variance found : 0.10312532649013884\n",
      "theoretical variance : 0.094\n",
      "empirical variance using antithetical variables : 0.0046448621258915615\n"
     ]
    }
   ],
   "source": [
    "print('empirical variance found :',N*empirical_variance)\n",
    "print('theoretical variance :',0.094)\n",
    "print('empirical variance using antithetical variables :',N*empirical_variance_redvar)"
   ]
  },
  {
   "cell_type": "markdown",
   "id": "bae7bcee",
   "metadata": {},
   "source": [
    "Let's perform importance sampling using a Taylor Expansion near 0 of g :\n",
    "We will use $\\tilde{q} = \\frac{1-x^2}{\\int{1-x^{2}dx}} $"
   ]
  }
 ],
 "metadata": {
  "kernelspec": {
   "display_name": "Python 3 (ipykernel)",
   "language": "python",
   "name": "python3"
  },
  "language_info": {
   "codemirror_mode": {
    "name": "ipython",
    "version": 3
   },
   "file_extension": ".py",
   "mimetype": "text/x-python",
   "name": "python",
   "nbconvert_exporter": "python",
   "pygments_lexer": "ipython3",
   "version": "3.10.12"
  }
 },
 "nbformat": 4,
 "nbformat_minor": 5
}
